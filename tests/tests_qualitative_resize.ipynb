{
 "cells": [
  {
   "cell_type": "code",
   "execution_count": 1,
   "id": "c0a23243",
   "metadata": {},
   "outputs": [],
   "source": [
    "import sys\n",
    "sys.path.append('../')"
   ]
  },
  {
   "cell_type": "code",
   "execution_count": 2,
   "id": "31959107",
   "metadata": {},
   "outputs": [
    {
     "name": "stderr",
     "output_type": "stream",
     "text": [
      "2023-02-11 15:03:08.741654: I tensorflow/core/platform/cpu_feature_guard.cc:193] This TensorFlow binary is optimized with oneAPI Deep Neural Network Library (oneDNN) to use the following CPU instructions in performance-critical operations:  AVX2 FMA\n",
      "To enable them in other operations, rebuild TensorFlow with the appropriate compiler flags.\n",
      "2023-02-11 15:03:09.386869: W tensorflow/stream_executor/platform/default/dso_loader.cc:64] Could not load dynamic library 'libcudart.so.11.0'; dlerror: libcudart.so.11.0: cannot open shared object file: No such file or directory; LD_LIBRARY_PATH: /home/manasraza/anaconda3/envs/tf_3d_ops/lib/python3.10/site-packages/cv2/../../lib64:\n",
      "2023-02-11 15:03:09.386989: I tensorflow/stream_executor/cuda/cudart_stub.cc:29] Ignore above cudart dlerror if you do not have a GPU set up on your machine.\n",
      "2023-02-11 15:03:09.634128: E tensorflow/stream_executor/cuda/cuda_blas.cc:2981] Unable to register cuBLAS factory: Attempting to register factory for plugin cuBLAS when one has already been registered\n",
      "2023-02-11 15:03:12.845008: W tensorflow/stream_executor/platform/default/dso_loader.cc:64] Could not load dynamic library 'libnvinfer.so.7'; dlerror: libnvinfer.so.7: cannot open shared object file: No such file or directory; LD_LIBRARY_PATH: /home/manasraza/anaconda3/envs/tf_3d_ops/lib/python3.10/site-packages/cv2/../../lib64:\n",
      "2023-02-11 15:03:12.845377: W tensorflow/stream_executor/platform/default/dso_loader.cc:64] Could not load dynamic library 'libnvinfer_plugin.so.7'; dlerror: libnvinfer_plugin.so.7: cannot open shared object file: No such file or directory; LD_LIBRARY_PATH: /home/manasraza/anaconda3/envs/tf_3d_ops/lib/python3.10/site-packages/cv2/../../lib64:\n",
      "2023-02-11 15:03:12.845433: W tensorflow/compiler/tf2tensorrt/utils/py_utils.cc:38] TF-TRT Warning: Cannot dlopen some TensorRT libraries. If you would like to use Nvidia GPU with TensorRT, please make sure the missing libraries mentioned above are installed properly.\n"
     ]
    }
   ],
   "source": [
    "# !pip install ipywidgets matplotlib opencv-python\n",
    "import cv2\n",
    "import matplotlib.pyplot as plt\n",
    "import matplotlib.cm as cm\n",
    "import matplotlib.animation as animation\n",
    "import numpy as np\n",
    "import IPython.display as display\n",
    "\n",
    "from tf_3d_ops.resize import resize\n",
    "import medmnist\n",
    "from test_utils import download_and_prepare_dataset\n",
    "import tensorflow as tf\n",
    "import io\n",
    "import imageio\n",
    "import ipywidgets\n",
    "\n",
    "\n",
    "DATASET_NAME = \"organmnist3d\"\n",
    "# Get the metadata of the dataset\n",
    "info = medmnist.INFO[DATASET_NAME]\n",
    "\n",
    "# Get the dataset\n",
    "prepared_dataset = download_and_prepare_dataset(info)\n",
    "(train_videos, train_labels) = prepared_dataset[0]\n"
   ]
  },
  {
   "cell_type": "code",
   "execution_count": 3,
   "id": "e42cbb99",
   "metadata": {},
   "outputs": [],
   "source": [
    "image_np = train_videos[0]"
   ]
  },
  {
   "cell_type": "code",
   "execution_count": 4,
   "id": "9ae767df",
   "metadata": {},
   "outputs": [
    {
     "name": "stderr",
     "output_type": "stream",
     "text": [
      "2023-02-11 15:03:36.407492: W tensorflow/stream_executor/platform/default/dso_loader.cc:64] Could not load dynamic library 'libcuda.so.1'; dlerror: libcuda.so.1: cannot open shared object file: No such file or directory; LD_LIBRARY_PATH: /home/manasraza/anaconda3/envs/tf_3d_ops/lib/python3.10/site-packages/cv2/../../lib64:\n",
      "2023-02-11 15:03:36.407662: W tensorflow/stream_executor/cuda/cuda_driver.cc:263] failed call to cuInit: UNKNOWN ERROR (303)\n",
      "2023-02-11 15:03:36.407769: I tensorflow/stream_executor/cuda/cuda_diagnostics.cc:156] kernel driver does not appear to be running on this host (anas-ai): /proc/driver/nvidia/version does not exist\n",
      "2023-02-11 15:03:36.409587: I tensorflow/core/platform/cpu_feature_guard.cc:193] This TensorFlow binary is optimized with oneAPI Deep Neural Network Library (oneDNN) to use the following CPU instructions in performance-critical operations:  AVX2 FMA\n",
      "To enable them in other operations, rebuild TensorFlow with the appropriate compiler flags.\n"
     ]
    }
   ],
   "source": [
    "image = tf.expand_dims(image_np, 0)\n",
    "image = tf.expand_dims(image, -1)"
   ]
  },
  {
   "cell_type": "code",
   "execution_count": 5,
   "id": "364b3b30",
   "metadata": {},
   "outputs": [
    {
     "name": "stdout",
     "output_type": "stream",
     "text": [
      "(1, 28, 28, 28, 1)\n"
     ]
    }
   ],
   "source": [
    "print(image.shape)"
   ]
  },
  {
   "cell_type": "code",
   "execution_count": 9,
   "id": "8d259776",
   "metadata": {},
   "outputs": [],
   "source": [
    "image_resized = resize(image, (56, 56, 56))"
   ]
  },
  {
   "cell_type": "code",
   "execution_count": 10,
   "id": "5e673861",
   "metadata": {},
   "outputs": [],
   "source": [
    "image_resized = tf.squeeze(image_resized)"
   ]
  },
  {
   "cell_type": "code",
   "execution_count": 11,
   "id": "507247e0",
   "metadata": {},
   "outputs": [
    {
     "data": {
      "text/plain": [
       "TensorShape([56, 56, 56])"
      ]
     },
     "execution_count": 11,
     "metadata": {},
     "output_type": "execute_result"
    }
   ],
   "source": [
    "image_resized.shape"
   ]
  },
  {
   "cell_type": "code",
   "execution_count": 12,
   "id": "de228f1b",
   "metadata": {},
   "outputs": [],
   "source": [
    "image_np = np.expand_dims(image_np, -1)"
   ]
  },
  {
   "cell_type": "code",
   "execution_count": 13,
   "id": "25334c21",
   "metadata": {},
   "outputs": [],
   "source": [
    "image_resized_np = np.expand_dims(image_resized.numpy(), -1)"
   ]
  },
  {
   "cell_type": "code",
   "execution_count": 15,
   "id": "f350c635",
   "metadata": {},
   "outputs": [
    {
     "data": {
      "image/png": "[encoded data removed]",
      "text/plain": [
       "<Figure size 640x480 with 1 Axes>"
      ]
     },
     "metadata": {},
     "output_type": "display_data"
    }
   ],
   "source": [
    "frames = [] # for storing the generated images\n",
    "fig = plt.figure()\n",
    "plt.axis('off')\n",
    "for img in image_np:\n",
    "    \n",
    "    frames.append([plt.imshow(img, animated=True)])\n",
    "\n",
    "ani = animation.ArtistAnimation(fig, frames, interval=100, #blit=True,\n",
    "                                repeat_delay=50)\n",
    "# plt.axis\n",
    "ani.save('./samples/3d_image_organmnist3d_original.gif', writer='imagemagick', fps=5)\n",
    "# plt.show()"
   ]
  },
  {
   "cell_type": "code",
   "execution_count": 16,
   "id": "d3687e46",
   "metadata": {},
   "outputs": [
    {
     "data": {
      "image/png": "[encoded data removed]",
      "text/plain": [
       "<Figure size 640x480 with 1 Axes>"
      ]
     },
     "metadata": {},
     "output_type": "display_data"
    }
   ],
   "source": [
    "frames = [] # for storing the generated images\n",
    "fig = plt.figure()\n",
    "plt.axis('off')\n",
    "\n",
    "for img in image_resized_np:\n",
    "    \n",
    "    frames.append([plt.imshow(img, animated=True)])\n",
    "\n",
    "ani = animation.ArtistAnimation(fig, frames, interval=100, #blit=True,\n",
    "                                repeat_delay=50)\n",
    "ani.save('./samples/3d_image_organmnist3d_resized.gif', writer='imagemagick', fps=5)\n",
    "# plt.show() "
   ]
  },
  {
   "cell_type": "code",
   "execution_count": null,
   "id": "08cad8ca",
   "metadata": {},
   "outputs": [],
   "source": []
  }
 ],
 "metadata": {
  "kernelspec": {
   "display_name": "Python 3 (ipykernel)",
   "language": "python",
   "name": "python3"
  },
  "language_info": {
   "codemirror_mode": {
    "name": "ipython",
    "version": 3
   },
   "file_extension": ".py",
   "mimetype": "text/x-python",
   "name": "python",
   "nbconvert_exporter": "python",
   "pygments_lexer": "ipython3",
   "version": "3.10.9"
  }
 },
 "nbformat": 4,
 "nbformat_minor": 5
}
