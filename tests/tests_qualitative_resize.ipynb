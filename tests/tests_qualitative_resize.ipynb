{
 "cells": [
  {
   "cell_type": "code",
   "execution_count": 1,
   "id": "ff61670f",
   "metadata": {},
   "outputs": [],
   "source": [
    "import sys\n",
    "sys.path.append('../')"
   ]
  },
  {
   "cell_type": "code",
   "execution_count": null,
   "id": "5a198532",
   "metadata": {},
   "outputs": [],
   "source": [
    "# !pip install ipywidgets matplotlib opencv-python\n",
    "import cv2\n",
    "import matplotlib.pyplot as plt\n",
    "import matplotlib.cm as cm\n",
    "import matplotlib.animation as animation\n",
    "import numpy as np\n",
    "import IPython.display as display\n",
    "\n",
    "from tf_3d_ops.resize import resize\n",
    "import medmnist\n",
    "from test_utils import download_and_prepare_dataset\n",
    "import tensorflow as tf\n",
    "import io\n",
    "import imageio\n",
    "import ipywidgets\n",
    "\n",
    "\n",
    "DATASET_NAME = \"organmnist3d\"\n",
    "# Get the metadata of the dataset\n",
    "info = medmnist.INFO[DATASET_NAME]\n",
    "\n",
    "# Get the dataset\n",
    "prepared_dataset = download_and_prepare_dataset(info)\n",
    "(train_videos, train_labels) = prepared_dataset[0]\n"
   ]
  },
  {
   "cell_type": "code",
   "execution_count": 13,
   "id": "471f1012",
   "metadata": {},
   "outputs": [],
   "source": [
    "image_np = train_videos[0]"
   ]
  },
  {
   "cell_type": "code",
   "execution_count": 6,
   "id": "518b6eaa",
   "metadata": {},
   "outputs": [
    {
     "name": "stderr",
     "output_type": "stream",
     "text": [
      "2023-02-11 13:25:54.441507: W tensorflow/stream_executor/platform/default/dso_loader.cc:64] Could not load dynamic library 'libcuda.so.1'; dlerror: libcuda.so.1: cannot open shared object file: No such file or directory\n",
      "2023-02-11 13:25:54.442183: W tensorflow/stream_executor/cuda/cuda_driver.cc:263] failed call to cuInit: UNKNOWN ERROR (303)\n",
      "2023-02-11 13:25:54.442297: I tensorflow/stream_executor/cuda/cuda_diagnostics.cc:156] kernel driver does not appear to be running on this host (anas-ai): /proc/driver/nvidia/version does not exist\n",
      "2023-02-11 13:25:54.448590: I tensorflow/core/platform/cpu_feature_guard.cc:193] This TensorFlow binary is optimized with oneAPI Deep Neural Network Library (oneDNN) to use the following CPU instructions in performance-critical operations:  AVX2 FMA\n",
      "To enable them in other operations, rebuild TensorFlow with the appropriate compiler flags.\n"
     ]
    }
   ],
   "source": [
    "image = tf.expand_dims(image_np, 0)\n",
    "image = tf.expand_dims(image, -1)"
   ]
  },
  {
   "cell_type": "code",
   "execution_count": 7,
   "id": "7438a302",
   "metadata": {},
   "outputs": [
    {
     "name": "stdout",
     "output_type": "stream",
     "text": [
      "(1, 28, 28, 28, 1)\n"
     ]
    }
   ],
   "source": [
    "print(image.shape)"
   ]
  },
  {
   "cell_type": "code",
   "execution_count": 8,
   "id": "75cd76a9",
   "metadata": {},
   "outputs": [],
   "source": [
    "resize_layer = Resize3D((56, 56, 56))"
   ]
  },
  {
   "cell_type": "code",
   "execution_count": 75,
   "id": "1904ab50",
   "metadata": {},
   "outputs": [
    {
     "name": "stderr",
     "output_type": "stream",
     "text": [
      "/home/manasraza/tensorflow-3d-ops/tests/../tf_3d_ops/resize.py:15: UserWarning: Resize3D not tested on real world data yet.\n",
      "  warnings.warn(f\"Resize3D not tested on real world data yet.\")\n"
     ]
    }
   ],
   "source": [
    "image_resized = resize_layer(image)"
   ]
  },
  {
   "cell_type": "code",
   "execution_count": 76,
   "id": "2c4d80fb",
   "metadata": {},
   "outputs": [],
   "source": [
    "image_resized = tf.squeeze(image_resized)"
   ]
  },
  {
   "cell_type": "code",
   "execution_count": 77,
   "id": "bbe4e28f",
   "metadata": {},
   "outputs": [
    {
     "data": {
      "text/plain": [
       "TensorShape([56, 56, 56])"
      ]
     },
     "execution_count": 77,
     "metadata": {},
     "output_type": "execute_result"
    }
   ],
   "source": [
    "image_resized.shape"
   ]
  },
  {
   "cell_type": "code",
   "execution_count": 52,
   "id": "c0184e97",
   "metadata": {},
   "outputs": [],
   "source": [
    "image_np = np.expand_dims(image_np, -1)"
   ]
  },
  {
   "cell_type": "code",
   "execution_count": 78,
   "id": "23d54ab4",
   "metadata": {},
   "outputs": [],
   "source": [
    "image_resized_np = np.expand_dims(image_resized.numpy(), -1)"
   ]
  },
  {
   "cell_type": "code",
   "execution_count": 54,
   "id": "e8d6cce7",
   "metadata": {},
   "outputs": [
    {
     "data": {
      "text/plain": [
       "(28, 28, 28, 1)"
      ]
     },
     "execution_count": 54,
     "metadata": {},
     "output_type": "execute_result"
    }
   ],
   "source": [
    "image_np.shape"
   ]
  },
  {
   "cell_type": "code",
   "execution_count": 83,
   "id": "a896b1dc",
   "metadata": {},
   "outputs": [
    {
     "data": {
      "image/png": "[encoded data removed]",
      "text/plain": [
       "<Figure size 640x480 with 1 Axes>"
      ]
     },
     "metadata": {},
     "output_type": "display_data"
    }
   ],
   "source": [
    "frames = [] # for storing the generated images\n",
    "fig = plt.figure()\n",
    "plt.axis('off')\n",
    "for img in image_np:\n",
    "    \n",
    "    frames.append([plt.imshow(img, animated=True)])\n",
    "\n",
    "ani = animation.ArtistAnimation(fig, frames, interval=100, #blit=True,\n",
    "                                repeat_delay=50)\n",
    "# plt.axis\n",
    "ani.save('./samples/3d_image_organmnist3d_original.gif', writer='imagemagick', fps=5)\n",
    "# plt.show()"
   ]
  },
  {
   "cell_type": "code",
   "execution_count": 84,
   "id": "8b49d12e",
   "metadata": {},
   "outputs": [
    {
     "data": {
      "image/png": "[encoded data removed]",
      "text/plain": [
       "<Figure size 640x480 with 1 Axes>"
      ]
     },
     "metadata": {},
     "output_type": "display_data"
    }
   ],
   "source": [
    "frames = [] # for storing the generated images\n",
    "fig = plt.figure()\n",
    "plt.axis('off')\n",
    "\n",
    "for img in image_resized_np:\n",
    "    \n",
    "    frames.append([plt.imshow(img, animated=True)])\n",
    "\n",
    "ani = animation.ArtistAnimation(fig, frames, interval=100, #blit=True,\n",
    "                                repeat_delay=50)\n",
    "ani.save('./samples/3d_image_organmnist3d_resized.gif', writer='imagemagick', fps=5)\n",
    "# plt.show() "
   ]
  },
  {
   "cell_type": "code",
   "execution_count": null,
   "id": "7527eb1b",
   "metadata": {},
   "outputs": [],
   "source": []
  }
 ],
 "metadata": {
  "kernelspec": {
   "display_name": "Python 3 (ipykernel)",
   "language": "python",
   "name": "python3"
  },
  "language_info": {
   "codemirror_mode": {
    "name": "ipython",
    "version": 3
   },
   "file_extension": ".py",
   "mimetype": "text/x-python",
   "name": "python",
   "nbconvert_exporter": "python",
   "pygments_lexer": "ipython3",
   "version": "3.10.9"
  }
 },
 "nbformat": 4,
 "nbformat_minor": 5
}
