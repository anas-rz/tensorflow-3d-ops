{
 "cells": [
  {
   "cell_type": "code",
   "execution_count": 1,
   "id": "c0a23243",
   "metadata": {},
   "outputs": [],
   "source": [
    "import sys\n",
    "sys.path.append('../')"
   ]
  },
  {
   "cell_type": "code",
   "execution_count": 3,
   "id": "31959107",
   "metadata": {},
   "outputs": [],
   "source": [
    "# !pip install ipywidgets matplotlib opencv-python\n",
    "import cv2\n",
    "import matplotlib.pyplot as plt\n",
    "import matplotlib.cm as cm\n",
    "import matplotlib.animation as animation\n",
    "import numpy as np\n",
    "import IPython.display as display\n",
    "\n",
    "from tf_3d_ops.flip import flip_horizontal, flip_vertical, flip_depth\n",
    "import medmnist\n",
    "from test_utils import download_and_prepare_dataset\n",
    "import tensorflow as tf\n",
    "import io\n",
    "import imageio\n",
    "import ipywidgets\n",
    "\n",
    "\n",
    "DATASET_NAME = \"organmnist3d\"\n",
    "# Get the metadata of the dataset\n",
    "info = medmnist.INFO[DATASET_NAME]\n",
    "\n",
    "# Get the dataset\n",
    "prepared_dataset = download_and_prepare_dataset(info)\n",
    "(train_videos, train_labels) = prepared_dataset[0]\n"
   ]
  },
  {
   "cell_type": "code",
   "execution_count": 4,
   "id": "e42cbb99",
   "metadata": {},
   "outputs": [],
   "source": [
    "image_np = train_videos[0]"
   ]
  },
  {
   "cell_type": "code",
   "execution_count": 5,
   "id": "9ae767df",
   "metadata": {},
   "outputs": [
    {
     "name": "stderr",
     "output_type": "stream",
     "text": [
      "2023-02-11 15:07:50.879021: W tensorflow/stream_executor/platform/default/dso_loader.cc:64] Could not load dynamic library 'libcuda.so.1'; dlerror: libcuda.so.1: cannot open shared object file: No such file or directory; LD_LIBRARY_PATH: /home/manasraza/anaconda3/envs/tf_3d_ops/lib/python3.10/site-packages/cv2/../../lib64:\n",
      "2023-02-11 15:07:50.879103: W tensorflow/stream_executor/cuda/cuda_driver.cc:263] failed call to cuInit: UNKNOWN ERROR (303)\n",
      "2023-02-11 15:07:50.879176: I tensorflow/stream_executor/cuda/cuda_diagnostics.cc:156] kernel driver does not appear to be running on this host (anas-ai): /proc/driver/nvidia/version does not exist\n",
      "2023-02-11 15:07:50.880128: I tensorflow/core/platform/cpu_feature_guard.cc:193] This TensorFlow binary is optimized with oneAPI Deep Neural Network Library (oneDNN) to use the following CPU instructions in performance-critical operations:  AVX2 FMA\n",
      "To enable them in other operations, rebuild TensorFlow with the appropriate compiler flags.\n"
     ]
    }
   ],
   "source": [
    "image = tf.expand_dims(image_np, 0)\n",
    "image = tf.expand_dims(image, -1)"
   ]
  },
  {
   "cell_type": "code",
   "execution_count": 6,
   "id": "364b3b30",
   "metadata": {},
   "outputs": [
    {
     "name": "stdout",
     "output_type": "stream",
     "text": [
      "(1, 28, 28, 28, 1)\n"
     ]
    }
   ],
   "source": [
    "print(image.shape)"
   ]
  },
  {
   "cell_type": "code",
   "execution_count": 8,
   "id": "8d259776",
   "metadata": {},
   "outputs": [
    {
     "name": "stdout",
     "output_type": "stream",
     "text": [
      "WARNING:tensorflow:AutoGraph could not transform <function _flip_batched.<locals>.<lambda> at 0x7f5286ecbd90> and will run it as-is.\n",
      "Cause: could not parse the source code of <function _flip_batched.<locals>.<lambda> at 0x7f5286ecbd90>: no matching AST found among candidates:\n",
      "# coding=utf-8\n",
      "lambda x: _flip_unbatched(x, flip_dimension)\n",
      "To silence this warning, decorate the function with @tf.autograph.experimental.do_not_convert\n",
      "WARNING: AutoGraph could not transform <function _flip_batched.<locals>.<lambda> at 0x7f5286ecbd90> and will run it as-is.\n",
      "Cause: could not parse the source code of <function _flip_batched.<locals>.<lambda> at 0x7f5286ecbd90>: no matching AST found among candidates:\n",
      "# coding=utf-8\n",
      "lambda x: _flip_unbatched(x, flip_dimension)\n",
      "To silence this warning, decorate the function with @tf.autograph.experimental.do_not_convert\n",
      "WARNING:tensorflow:AutoGraph could not transform <function _flip_batched.<locals>.<lambda> at 0x7f5286ecbd90> and will run it as-is.\n",
      "Cause: could not parse the source code of <function _flip_batched.<locals>.<lambda> at 0x7f5286ecbd90>: no matching AST found among candidates:\n",
      "# coding=utf-8\n",
      "lambda x: _flip_unbatched(x, flip_dimension)\n",
      "To silence this warning, decorate the function with @tf.autograph.experimental.do_not_convert\n",
      "WARNING: AutoGraph could not transform <function _flip_batched.<locals>.<lambda> at 0x7f5286ecbd90> and will run it as-is.\n",
      "Cause: could not parse the source code of <function _flip_batched.<locals>.<lambda> at 0x7f5286ecbd90>: no matching AST found among candidates:\n",
      "# coding=utf-8\n",
      "lambda x: _flip_unbatched(x, flip_dimension)\n",
      "To silence this warning, decorate the function with @tf.autograph.experimental.do_not_convert\n",
      "WARNING:tensorflow:AutoGraph could not transform <function _flip_batched.<locals>.<lambda> at 0x7f5286ecbd90> and will run it as-is.\n",
      "Cause: could not parse the source code of <function _flip_batched.<locals>.<lambda> at 0x7f5286ecbd90>: no matching AST found among candidates:\n",
      "# coding=utf-8\n",
      "lambda x: _flip_unbatched(x, flip_dimension)\n",
      "To silence this warning, decorate the function with @tf.autograph.experimental.do_not_convert\n",
      "WARNING: AutoGraph could not transform <function _flip_batched.<locals>.<lambda> at 0x7f5286ecbd90> and will run it as-is.\n",
      "Cause: could not parse the source code of <function _flip_batched.<locals>.<lambda> at 0x7f5286ecbd90>: no matching AST found among candidates:\n",
      "# coding=utf-8\n",
      "lambda x: _flip_unbatched(x, flip_dimension)\n",
      "To silence this warning, decorate the function with @tf.autograph.experimental.do_not_convert\n"
     ]
    }
   ],
   "source": [
    "image_flipped_h = flip_horizontal(image)\n",
    "image_flipped_w = flip_vertical(image)\n",
    "image_flipped_d = flip_depth(image)"
   ]
  },
  {
   "cell_type": "code",
   "execution_count": 10,
   "id": "3c76779d",
   "metadata": {},
   "outputs": [
    {
     "data": {
      "text/plain": [
       "TensorShape([1, 28, 28, 28, 1])"
      ]
     },
     "execution_count": 10,
     "metadata": {},
     "output_type": "execute_result"
    }
   ],
   "source": [
    "image_flipped_h.shape"
   ]
  },
  {
   "cell_type": "code",
   "execution_count": 11,
   "id": "5e673861",
   "metadata": {},
   "outputs": [],
   "source": [
    "image_flipped_h = tf.squeeze(image_flipped_h)\n",
    "image_flipped_w = tf.squeeze(image_flipped_w)\n",
    "image_flipped_d = tf.squeeze(image_flipped_d)"
   ]
  },
  {
   "cell_type": "code",
   "execution_count": 12,
   "id": "de228f1b",
   "metadata": {},
   "outputs": [],
   "source": [
    "image_np = np.expand_dims(image_np, -1)"
   ]
  },
  {
   "cell_type": "code",
   "execution_count": 13,
   "id": "25334c21",
   "metadata": {},
   "outputs": [],
   "source": [
    "image_flipped_h = np.expand_dims(image_flipped_h.numpy(), -1)\n",
    "image_flipped_w = np.expand_dims(image_flipped_w.numpy(), -1)\n",
    "image_flipped_d = np.expand_dims(image_flipped_d.numpy(), -1)"
   ]
  },
  {
   "cell_type": "code",
   "execution_count": 14,
   "id": "f350c635",
   "metadata": {},
   "outputs": [
    {
     "data": {
      "image/png": "[encoded data removed]",
      "text/plain": [
       "<Figure size 640x480 with 1 Axes>"
      ]
     },
     "metadata": {},
     "output_type": "display_data"
    }
   ],
   "source": [
    "frames = [] # for storing the generated images\n",
    "fig = plt.figure()\n",
    "plt.axis('off')\n",
    "for img in image_np:\n",
    "    \n",
    "    frames.append([plt.imshow(img, animated=True)])\n",
    "\n",
    "ani = animation.ArtistAnimation(fig, frames, interval=100, #blit=True,\n",
    "                                repeat_delay=50)\n",
    "# plt.axis\n",
    "ani.save('./samples/3d_image_organmnist3d_original.gif', writer='imagemagick', fps=5)\n",
    "# plt.show()"
   ]
  },
  {
   "cell_type": "code",
   "execution_count": 15,
   "id": "d3687e46",
   "metadata": {},
   "outputs": [
    {
     "data": {
      "image/png": "[encoded data removed]",
      "text/plain": [
       "<Figure size 640x480 with 1 Axes>"
      ]
     },
     "metadata": {},
     "output_type": "display_data"
    }
   ],
   "source": [
    "frames = [] # for storing the generated images\n",
    "fig = plt.figure()\n",
    "plt.axis('off')\n",
    "\n",
    "for img in image_flipped_h:\n",
    "    \n",
    "    frames.append([plt.imshow(img, animated=True)])\n",
    "\n",
    "ani = animation.ArtistAnimation(fig, frames, interval=100, #blit=True,\n",
    "                                repeat_delay=50)\n",
    "ani.save('./samples/3d_image_organmnist3d_flipped_h.gif', writer='imagemagick', fps=5)\n",
    "# plt.show() "
   ]
  },
  {
   "cell_type": "code",
   "execution_count": 16,
   "id": "08cad8ca",
   "metadata": {},
   "outputs": [
    {
     "data": {
      "image/png": "[encoded data removed]",
      "text/plain": [
       "<Figure size 640x480 with 1 Axes>"
      ]
     },
     "metadata": {},
     "output_type": "display_data"
    }
   ],
   "source": [
    "frames = [] # for storing the generated images\n",
    "fig = plt.figure()\n",
    "plt.axis('off')\n",
    "\n",
    "for img in image_flipped_w:\n",
    "    \n",
    "    frames.append([plt.imshow(img, animated=True)])\n",
    "\n",
    "ani = animation.ArtistAnimation(fig, frames, interval=100, #blit=True,\n",
    "                                repeat_delay=50)\n",
    "ani.save('./samples/3d_image_organmnist3d_flipped_v.gif', writer='imagemagick', fps=5)\n",
    "# plt.show() "
   ]
  },
  {
   "cell_type": "code",
   "execution_count": 17,
   "id": "45ff8225",
   "metadata": {},
   "outputs": [
    {
     "data": {
      "image/png": "[encoded data removed]",
      "text/plain": [
       "<Figure size 640x480 with 1 Axes>"
      ]
     },
     "metadata": {},
     "output_type": "display_data"
    }
   ],
   "source": [
    "frames = [] # for storing the generated images\n",
    "fig = plt.figure()\n",
    "plt.axis('off')\n",
    "\n",
    "for img in image_flipped_d:\n",
    "    \n",
    "    frames.append([plt.imshow(img, animated=True)])\n",
    "\n",
    "ani = animation.ArtistAnimation(fig, frames, interval=100, #blit=True,\n",
    "                                repeat_delay=50)\n",
    "ani.save('./samples/3d_image_organmnist3d_flipped_d.gif', writer='imagemagick', fps=5)\n",
    "# plt.show() "
   ]
  },
  {
   "cell_type": "code",
   "execution_count": null,
   "id": "a3fca571",
   "metadata": {},
   "outputs": [],
   "source": []
  }
 ],
 "metadata": {
  "kernelspec": {
   "display_name": "Python 3 (ipykernel)",
   "language": "python",
   "name": "python3"
  },
  "language_info": {
   "codemirror_mode": {
    "name": "ipython",
    "version": 3
   },
   "file_extension": ".py",
   "mimetype": "text/x-python",
   "name": "python",
   "nbconvert_exporter": "python",
   "pygments_lexer": "ipython3",
   "version": "3.10.9"
  }
 },
 "nbformat": 4,
 "nbformat_minor": 5
}
