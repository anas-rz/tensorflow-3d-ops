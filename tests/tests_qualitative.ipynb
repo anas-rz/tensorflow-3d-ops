{
 "cells": [
  {
   "cell_type": "code",
   "execution_count": 2,
   "id": "ac81f7ef",
   "metadata": {},
   "outputs": [],
   "source": [
    "import sys\n",
    "sys.path.append('../')"
   ]
  },
  {
   "cell_type": "code",
   "execution_count": 62,
   "id": "c24d8de5",
   "metadata": {},
   "outputs": [
    {
     "name": "stdout",
     "output_type": "stream",
     "text": [
      "Requirement already satisfied: ipywidgets in /home/manasraza/anaconda3/envs/tf_3d_ops/lib/python3.10/site-packages (8.0.4)\n",
      "Requirement already satisfied: matplotlib in /home/manasraza/anaconda3/envs/tf_3d_ops/lib/python3.10/site-packages (3.6.3)\n",
      "Collecting opencv-python\n",
      "  Downloading opencv_python-4.7.0.68-cp37-abi3-manylinux_2_17_x86_64.manylinux2014_x86_64.whl (61.8 MB)\n",
      "\u001b[2K     \u001b[38;2;114;156;31m━━━━━━━━━━━━━━━━━━━━━━━━━━━━━━━━━━━━━━━━\u001b[0m \u001b[32m61.8/61.8 MB\u001b[0m \u001b[31m2.4 MB/s\u001b[0m eta \u001b[36m0:00:00\u001b[0mm eta \u001b[36m0:00:01\u001b[0m[36m0:00:01\u001b[0m\n",
      "\u001b[?25hRequirement already satisfied: ipython>=6.1.0 in /home/manasraza/anaconda3/envs/tf_3d_ops/lib/python3.10/site-packages (from ipywidgets) (8.10.0)\n",
      "Requirement already satisfied: ipykernel>=4.5.1 in /home/manasraza/anaconda3/envs/tf_3d_ops/lib/python3.10/site-packages (from ipywidgets) (6.15.0)\n",
      "Requirement already satisfied: jupyterlab-widgets~=3.0 in /home/manasraza/anaconda3/envs/tf_3d_ops/lib/python3.10/site-packages (from ipywidgets) (3.0.5)\n",
      "Requirement already satisfied: traitlets>=4.3.1 in /home/manasraza/anaconda3/envs/tf_3d_ops/lib/python3.10/site-packages (from ipywidgets) (5.9.0)\n",
      "Requirement already satisfied: widgetsnbextension~=4.0 in /home/manasraza/anaconda3/envs/tf_3d_ops/lib/python3.10/site-packages (from ipywidgets) (4.0.5)\n",
      "Requirement already satisfied: pillow>=6.2.0 in /home/manasraza/anaconda3/envs/tf_3d_ops/lib/python3.10/site-packages (from matplotlib) (9.4.0)\n",
      "Requirement already satisfied: contourpy>=1.0.1 in /home/manasraza/anaconda3/envs/tf_3d_ops/lib/python3.10/site-packages (from matplotlib) (1.0.7)\n",
      "Requirement already satisfied: python-dateutil>=2.7 in /home/manasraza/.local/lib/python3.10/site-packages (from matplotlib) (2.8.2)\n",
      "Requirement already satisfied: packaging>=20.0 in /home/manasraza/anaconda3/envs/tf_3d_ops/lib/python3.10/site-packages (from matplotlib) (23.0)\n",
      "Requirement already satisfied: cycler>=0.10 in /home/manasraza/anaconda3/envs/tf_3d_ops/lib/python3.10/site-packages (from matplotlib) (0.11.0)\n",
      "Requirement already satisfied: pyparsing>=2.2.1 in /home/manasraza/.local/lib/python3.10/site-packages (from matplotlib) (2.4.7)\n",
      "Requirement already satisfied: fonttools>=4.22.0 in /home/manasraza/anaconda3/envs/tf_3d_ops/lib/python3.10/site-packages (from matplotlib) (4.38.0)\n",
      "Requirement already satisfied: kiwisolver>=1.0.1 in /home/manasraza/anaconda3/envs/tf_3d_ops/lib/python3.10/site-packages (from matplotlib) (1.4.4)\n",
      "Requirement already satisfied: numpy>=1.19 in /home/manasraza/.local/lib/python3.10/site-packages (from matplotlib) (1.21.4)\n",
      "Requirement already satisfied: jupyter-client>=6.1.12 in /home/manasraza/anaconda3/envs/tf_3d_ops/lib/python3.10/site-packages (from ipykernel>=4.5.1->ipywidgets) (7.3.4)\n",
      "Requirement already satisfied: psutil in /home/manasraza/.local/lib/python3.10/site-packages (from ipykernel>=4.5.1->ipywidgets) (5.8.0)\n",
      "Requirement already satisfied: nest-asyncio in /home/manasraza/anaconda3/envs/tf_3d_ops/lib/python3.10/site-packages (from ipykernel>=4.5.1->ipywidgets) (1.5.6)\n",
      "Requirement already satisfied: matplotlib-inline>=0.1 in /home/manasraza/anaconda3/envs/tf_3d_ops/lib/python3.10/site-packages (from ipykernel>=4.5.1->ipywidgets) (0.1.6)\n",
      "Requirement already satisfied: debugpy>=1.0 in /home/manasraza/anaconda3/envs/tf_3d_ops/lib/python3.10/site-packages (from ipykernel>=4.5.1->ipywidgets) (1.5.1)\n",
      "Requirement already satisfied: pyzmq>=17 in /home/manasraza/anaconda3/envs/tf_3d_ops/lib/python3.10/site-packages (from ipykernel>=4.5.1->ipywidgets) (23.2.0)\n",
      "Requirement already satisfied: tornado>=6.1 in /home/manasraza/anaconda3/envs/tf_3d_ops/lib/python3.10/site-packages (from ipykernel>=4.5.1->ipywidgets) (6.1)\n",
      "Requirement already satisfied: prompt-toolkit<3.1.0,>=3.0.30 in /home/manasraza/anaconda3/envs/tf_3d_ops/lib/python3.10/site-packages (from ipython>=6.1.0->ipywidgets) (3.0.36)\n",
      "Requirement already satisfied: jedi>=0.16 in /home/manasraza/anaconda3/envs/tf_3d_ops/lib/python3.10/site-packages (from ipython>=6.1.0->ipywidgets) (0.18.2)\n",
      "Requirement already satisfied: stack-data in /home/manasraza/anaconda3/envs/tf_3d_ops/lib/python3.10/site-packages (from ipython>=6.1.0->ipywidgets) (0.6.2)\n",
      "Requirement already satisfied: pickleshare in /home/manasraza/anaconda3/envs/tf_3d_ops/lib/python3.10/site-packages (from ipython>=6.1.0->ipywidgets) (0.7.5)\n",
      "Requirement already satisfied: pexpect>4.3 in /home/manasraza/anaconda3/envs/tf_3d_ops/lib/python3.10/site-packages (from ipython>=6.1.0->ipywidgets) (4.8.0)\n",
      "Requirement already satisfied: pygments>=2.4.0 in /home/manasraza/.local/lib/python3.10/site-packages (from ipython>=6.1.0->ipywidgets) (2.10.0)\n",
      "Requirement already satisfied: backcall in /home/manasraza/anaconda3/envs/tf_3d_ops/lib/python3.10/site-packages (from ipython>=6.1.0->ipywidgets) (0.2.0)\n",
      "Requirement already satisfied: decorator in /home/manasraza/anaconda3/envs/tf_3d_ops/lib/python3.10/site-packages (from ipython>=6.1.0->ipywidgets) (5.1.1)\n",
      "Requirement already satisfied: six>=1.5 in /home/manasraza/.local/lib/python3.10/site-packages (from python-dateutil>=2.7->matplotlib) (1.16.0)\n",
      "Requirement already satisfied: parso<0.9.0,>=0.8.0 in /home/manasraza/anaconda3/envs/tf_3d_ops/lib/python3.10/site-packages (from jedi>=0.16->ipython>=6.1.0->ipywidgets) (0.8.3)\n",
      "Requirement already satisfied: entrypoints in /home/manasraza/anaconda3/envs/tf_3d_ops/lib/python3.10/site-packages (from jupyter-client>=6.1.12->ipykernel>=4.5.1->ipywidgets) (0.4)\n",
      "Requirement already satisfied: jupyter-core>=4.9.2 in /home/manasraza/anaconda3/envs/tf_3d_ops/lib/python3.10/site-packages (from jupyter-client>=6.1.12->ipykernel>=4.5.1->ipywidgets) (5.2.0)\n",
      "Requirement already satisfied: ptyprocess>=0.5 in /home/manasraza/anaconda3/envs/tf_3d_ops/lib/python3.10/site-packages (from pexpect>4.3->ipython>=6.1.0->ipywidgets) (0.7.0)\n",
      "Requirement already satisfied: wcwidth in /home/manasraza/.local/lib/python3.10/site-packages (from prompt-toolkit<3.1.0,>=3.0.30->ipython>=6.1.0->ipywidgets) (0.2.5)\n",
      "Requirement already satisfied: executing>=1.2.0 in /home/manasraza/anaconda3/envs/tf_3d_ops/lib/python3.10/site-packages (from stack-data->ipython>=6.1.0->ipywidgets) (1.2.0)\n",
      "Requirement already satisfied: asttokens>=2.1.0 in /home/manasraza/anaconda3/envs/tf_3d_ops/lib/python3.10/site-packages (from stack-data->ipython>=6.1.0->ipywidgets) (2.2.1)\n",
      "Requirement already satisfied: pure-eval in /home/manasraza/anaconda3/envs/tf_3d_ops/lib/python3.10/site-packages (from stack-data->ipython>=6.1.0->ipywidgets) (0.2.2)\n",
      "Requirement already satisfied: platformdirs>=2.5 in /home/manasraza/anaconda3/envs/tf_3d_ops/lib/python3.10/site-packages (from jupyter-core>=4.9.2->jupyter-client>=6.1.12->ipykernel>=4.5.1->ipywidgets) (3.0.0)\n",
      "Installing collected packages: opencv-python\n",
      "Successfully installed opencv-python-4.7.0.68\n"
     ]
    }
   ],
   "source": [
    "!pip install ipywidgets matplotlib opencv-python\n",
    "import cv2\n",
    "import matplotlib.pyplot as plt\n",
    "import matplotlib.cm as cm\n",
    "import matplotlib.animation as animation\n",
    "import numpy as np\n",
    "import IPython.display as display\n",
    "\n",
    "from tf_3d_ops.resize import Resize3D\n",
    "import medmnist\n",
    "from test_utils import download_and_prepare_dataset\n",
    "import tensorflow as tf\n",
    "import io\n",
    "import imageio\n",
    "import ipywidgets\n",
    "\n",
    "\n",
    "DATASET_NAME = \"organmnist3d\"\n",
    "# Get the metadata of the dataset\n",
    "info = medmnist.INFO[DATASET_NAME]\n",
    "\n",
    "# Get the dataset\n",
    "prepared_dataset = download_and_prepare_dataset(info)\n",
    "(train_videos, train_labels) = prepared_dataset[0]\n"
   ]
  },
  {
   "cell_type": "code",
   "execution_count": 13,
   "id": "cee4dbad",
   "metadata": {},
   "outputs": [],
   "source": [
    "image_np = train_videos[0]"
   ]
  },
  {
   "cell_type": "code",
   "execution_count": 6,
   "id": "30cd6d9c",
   "metadata": {},
   "outputs": [
    {
     "name": "stderr",
     "output_type": "stream",
     "text": [
      "2023-02-11 13:25:54.441507: W tensorflow/stream_executor/platform/default/dso_loader.cc:64] Could not load dynamic library 'libcuda.so.1'; dlerror: libcuda.so.1: cannot open shared object file: No such file or directory\n",
      "2023-02-11 13:25:54.442183: W tensorflow/stream_executor/cuda/cuda_driver.cc:263] failed call to cuInit: UNKNOWN ERROR (303)\n",
      "2023-02-11 13:25:54.442297: I tensorflow/stream_executor/cuda/cuda_diagnostics.cc:156] kernel driver does not appear to be running on this host (anas-ai): /proc/driver/nvidia/version does not exist\n",
      "2023-02-11 13:25:54.448590: I tensorflow/core/platform/cpu_feature_guard.cc:193] This TensorFlow binary is optimized with oneAPI Deep Neural Network Library (oneDNN) to use the following CPU instructions in performance-critical operations:  AVX2 FMA\n",
      "To enable them in other operations, rebuild TensorFlow with the appropriate compiler flags.\n"
     ]
    }
   ],
   "source": [
    "image = tf.expand_dims(image_np, 0)\n",
    "image = tf.expand_dims(image, -1)"
   ]
  },
  {
   "cell_type": "code",
   "execution_count": 7,
   "id": "f54ecc40",
   "metadata": {},
   "outputs": [
    {
     "name": "stdout",
     "output_type": "stream",
     "text": [
      "(1, 28, 28, 28, 1)\n"
     ]
    }
   ],
   "source": [
    "print(image.shape)"
   ]
  },
  {
   "cell_type": "code",
   "execution_count": 8,
   "id": "411d683d",
   "metadata": {},
   "outputs": [],
   "source": [
    "resize_layer = Resize3D((56, 56, 56))"
   ]
  },
  {
   "cell_type": "code",
   "execution_count": 75,
   "id": "2b982964",
   "metadata": {},
   "outputs": [
    {
     "name": "stderr",
     "output_type": "stream",
     "text": [
      "/home/manasraza/tensorflow-3d-ops/tests/../tf_3d_ops/resize.py:15: UserWarning: Resize3D not tested on real world data yet.\n",
      "  warnings.warn(f\"Resize3D not tested on real world data yet.\")\n"
     ]
    }
   ],
   "source": [
    "image_resized = resize_layer(image)"
   ]
  },
  {
   "cell_type": "code",
   "execution_count": 76,
   "id": "98a3dc9b",
   "metadata": {},
   "outputs": [],
   "source": [
    "image_resized = tf.squeeze(image_resized)"
   ]
  },
  {
   "cell_type": "code",
   "execution_count": 77,
   "id": "fd78ec46",
   "metadata": {},
   "outputs": [
    {
     "data": {
      "text/plain": [
       "TensorShape([56, 56, 56])"
      ]
     },
     "execution_count": 77,
     "metadata": {},
     "output_type": "execute_result"
    }
   ],
   "source": [
    "image_resized.shape"
   ]
  },
  {
   "cell_type": "code",
   "execution_count": 52,
   "id": "f9219274",
   "metadata": {},
   "outputs": [],
   "source": [
    "image_np = np.expand_dims(image_np, -1)"
   ]
  },
  {
   "cell_type": "code",
   "execution_count": 78,
   "id": "1d3cc8e5",
   "metadata": {},
   "outputs": [],
   "source": [
    "image_resized_np = np.expand_dims(image_resized.numpy(), -1)"
   ]
  },
  {
   "cell_type": "code",
   "execution_count": 54,
   "id": "f37680b7",
   "metadata": {},
   "outputs": [
    {
     "data": {
      "text/plain": [
       "(28, 28, 28, 1)"
      ]
     },
     "execution_count": 54,
     "metadata": {},
     "output_type": "execute_result"
    }
   ],
   "source": [
    "image_np.shape"
   ]
  },
  {
   "cell_type": "code",
   "execution_count": 83,
   "id": "eb0b7aa4",
   "metadata": {},
   "outputs": [
    {
     "data": {
      "image/png": "[encoded data removed]",
      "text/plain": [
       "<Figure size 640x480 with 1 Axes>"
      ]
     },
     "metadata": {},
     "output_type": "display_data"
    }
   ],
   "source": [
    "frames = [] # for storing the generated images\n",
    "fig = plt.figure()\n",
    "plt.axis('off')\n",
    "for img in image_np:\n",
    "    \n",
    "    frames.append([plt.imshow(img, animated=True)])\n",
    "\n",
    "ani = animation.ArtistAnimation(fig, frames, interval=100, #blit=True,\n",
    "                                repeat_delay=50)\n",
    "# plt.axis\n",
    "ani.save('./samples/3d_image_organmnist3d_original.gif', writer='imagemagick', fps=5)\n",
    "# plt.show()"
   ]
  },
  {
   "cell_type": "code",
   "execution_count": 84,
   "id": "69407c4a",
   "metadata": {},
   "outputs": [
    {
     "data": {
      "image/png": "[encoded data removed]",
      "text/plain": [
       "<Figure size 640x480 with 1 Axes>"
      ]
     },
     "metadata": {},
     "output_type": "display_data"
    }
   ],
   "source": [
    "frames = [] # for storing the generated images\n",
    "fig = plt.figure()\n",
    "plt.axis('off')\n",
    "\n",
    "for img in image_resized_np:\n",
    "    \n",
    "    frames.append([plt.imshow(img, animated=True)])\n",
    "\n",
    "ani = animation.ArtistAnimation(fig, frames, interval=100, #blit=True,\n",
    "                                repeat_delay=50)\n",
    "ani.save('./samples/3d_image_organmnist3d_resized.gif', writer='imagemagick', fps=5)\n",
    "# plt.show() "
   ]
  },
  {
   "cell_type": "code",
   "execution_count": null,
   "id": "846ed43e",
   "metadata": {},
   "outputs": [],
   "source": []
  }
 ],
 "metadata": {
  "kernelspec": {
   "display_name": "Python 3 (ipykernel)",
   "language": "python",
   "name": "python3"
  },
  "language_info": {
   "codemirror_mode": {
    "name": "ipython",
    "version": 3
   },
   "file_extension": ".py",
   "mimetype": "text/x-python",
   "name": "python",
   "nbconvert_exporter": "python",
   "pygments_lexer": "ipython3",
   "version": "3.10.9"
  }
 },
 "nbformat": 4,
 "nbformat_minor": 5
}
